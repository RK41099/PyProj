{
 "cells": [
  {
   "cell_type": "markdown",
   "metadata": {},
   "source": [
    "# Question 1:  "
   ]
  },
  {
   "cell_type": "code",
   "execution_count": 2,
   "metadata": {},
   "outputs": [],
   "source": [
    "# For this challenge, create a bank account class that has two attributes: \n",
    "# ● owner \n",
    "# ● balance and \n",
    "# Two methods: \n",
    "# ● deposit \n",
    "# ● withdraw \n",
    "# As an added requirement, withdrawals may not exceed the available balance. \n",
    "# Instantiate your class, make several deposits and withdrawals, and test to make sure the account can't be overdrawn. "
   ]
  },
  {
   "cell_type": "markdown",
   "metadata": {},
   "source": [
    "Solution:"
   ]
  },
  {
   "cell_type": "code",
   "execution_count": 1,
   "metadata": {},
   "outputs": [
    {
     "name": "stdout",
     "output_type": "stream",
     "text": [
      "*****FCS Bank*****\n",
      "Enter your Name: Raj Kaste\n",
      "Enter amount to be Deposited: 200000\n",
      "Name of Owner:  Raj Kaste \n",
      "Amount Deposited: 200000.0\n",
      "Enter amount to be Withdrawn: 150\n",
      "\n",
      " You Withdrew: 150.0\n",
      "\n",
      " Net Available Balance= 199850.0\n"
     ]
    }
   ],
   "source": [
    "class Bank_Account: \n",
    "    def __init__(self):\n",
    "        print(\"*****FCS Bank*****\") \n",
    "  \n",
    "    def deposit(self): \n",
    "        owner = input(\"Enter your Name: \")\n",
    "        amount = float(input(\"Enter amount to be Deposited: \")) \n",
    "        self.balance = amount \n",
    "        print(\"Name of Owner: \",owner,\"\\nAmount Deposited:\",amount) \n",
    "  \n",
    "    def withdraw(self): \n",
    "        amount = float(input(\"Enter amount to be Withdrawn: \")) \n",
    "        if self.balance >= amount: \n",
    "            self.balance = self.balance - amount \n",
    "            print(\"\\n You Withdrew:\", amount) \n",
    "        else: \n",
    "            print(\"\\n Insufficient balance  \") \n",
    "  \n",
    "    def display(self): \n",
    "        print(\"\\n Net Available Balance=\",self.balance) \n",
    "\n",
    "s = Bank_Account() \n",
    "\n",
    "s.deposit() \n",
    "s.withdraw() \n",
    "s.display() "
   ]
  },
  {
   "cell_type": "code",
   "execution_count": 2,
   "metadata": {},
   "outputs": [
    {
     "name": "stdout",
     "output_type": "stream",
     "text": [
      "*****FCS Bank*****\n",
      "Enter your Name: Himanshu Kaste\n",
      "Enter amount to be Deposited: 4000\n",
      "Name of Owner:  Himanshu Kaste \n",
      "Amount Deposited: 4000.0\n",
      "Enter amount to be Withdrawn: 7000\n",
      "\n",
      " Insufficient balance  \n",
      "\n",
      " Net Available Balance= 4000.0\n"
     ]
    }
   ],
   "source": [
    "s1 = Bank_Account() \n",
    "\n",
    "s1.deposit() \n",
    "s1.withdraw() \n",
    "s1.display() "
   ]
  },
  {
   "cell_type": "markdown",
   "metadata": {},
   "source": [
    "# Question 2:"
   ]
  },
  {
   "cell_type": "code",
   "execution_count": 3,
   "metadata": {},
   "outputs": [],
   "source": [
    "# For this challenge, create a Cone class that has two attributes:\n",
    "# * R = Radius\n",
    "# * h = height\n",
    "# and two methods:\n",
    "# * Volume - π × r² × (h/3)\n",
    "# * Surface area: base: π × r², side: π × r × √(r²+h²)\n",
    "# Make only one class with functions, as in where required Import Math"
   ]
  },
  {
   "cell_type": "markdown",
   "metadata": {},
   "source": [
    "Solution:"
   ]
  },
  {
   "cell_type": "code",
   "execution_count": 17,
   "metadata": {},
   "outputs": [
    {
     "name": "stdout",
     "output_type": "stream",
     "text": [
      "*****Right circular cone*****\n",
      "Enter radius: 2\n",
      "Enter height: 3\n",
      "\n",
      "Volume of Cone:  12.566370614359172\n",
      "\n",
      "Surface Area of Cone:  35.22071741263713\n"
     ]
    }
   ],
   "source": [
    "import math\n",
    "from math import pi\n",
    "\n",
    "class cone:\n",
    "    def __init__(self):\n",
    "       \n",
    "        print(\"*****Right circular cone*****\")\n",
    "    \n",
    "    def volume(self):\n",
    "        self.radius = float(input(\"Enter radius: \"))\n",
    "        self.height = float(input(\"Enter height: \"))\n",
    "        volume = pi*(self.radius*self.radius)*(self.height/3)\n",
    "        print(\"\\nVolume of Cone: \",volume)\n",
    "\n",
    "\n",
    "    def surface_area(self):\n",
    "            base = pi*(self.radius*self.radius)\n",
    "            rhsq = (self.radius*self.radius) + (self.height*self.height)\n",
    "            side = pi*self.radius*math.sqrt(rhsq)\n",
    "            sa = base + side\n",
    "            print(\"\\nSurface Area of Cone: \",sa)\n",
    "\n",
    "v = cone()\n",
    "v.volume()\n",
    "v.surface_area()"
   ]
  },
  {
   "cell_type": "code",
   "execution_count": null,
   "metadata": {},
   "outputs": [],
   "source": []
  }
 ],
 "metadata": {
  "kernelspec": {
   "display_name": "Python 3",
   "language": "python",
   "name": "python3"
  },
  "language_info": {
   "codemirror_mode": {
    "name": "ipython",
    "version": 3
   },
   "file_extension": ".py",
   "mimetype": "text/x-python",
   "name": "python",
   "nbconvert_exporter": "python",
   "pygments_lexer": "ipython3",
   "version": "3.7.6"
  }
 },
 "nbformat": 4,
 "nbformat_minor": 4
}
