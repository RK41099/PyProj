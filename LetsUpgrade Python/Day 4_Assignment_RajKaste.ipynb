{
 "cells": [
  {
   "cell_type": "markdown",
   "metadata": {},
   "source": [
    "# Question 1:"
   ]
  },
  {
   "cell_type": "code",
   "execution_count": 11,
   "metadata": {},
   "outputs": [],
   "source": [
    "# Write a program to identify sub list [1,1,5] is there in the given list in the same order,\n",
    "# if yes print “it's a Match” if no then print “it's Gone” in function\n",
    "# Example -\n",
    "# Listy = [1,5,6,4,1,2,3,5] - it's a Match\n",
    "# Listy = [1,5,6,5,1,2,3,6] - it's Gone"
   ]
  },
  {
   "cell_type": "code",
   "execution_count": 32,
   "metadata": {},
   "outputs": [],
   "source": [
    "def check(p1):\n",
    "    cnt=0\n",
    "    list=[1,1,5]\n",
    "    i=0\n",
    "    q=len(p1)\n",
    "    while(i < q):\n",
    "        if(list[cnt]==p1[i]):\n",
    "            cnt=cnt+1\n",
    "            i=i+1\n",
    "        else:\n",
    "            i=i+1\n",
    "        if cnt==3:\n",
    "            print(\"It's a Match!\")\n",
    "            break\n",
    "    if cnt!=3:\n",
    "        print(\"it's Gone\")"
   ]
  },
  {
   "cell_type": "code",
   "execution_count": 37,
   "metadata": {},
   "outputs": [
    {
     "name": "stdout",
     "output_type": "stream",
     "text": [
      "It's a Match!\n"
     ]
    }
   ],
   "source": [
    "check([1,5,6,4,1,2,3,5])"
   ]
  },
  {
   "cell_type": "code",
   "execution_count": 38,
   "metadata": {},
   "outputs": [
    {
     "name": "stdout",
     "output_type": "stream",
     "text": [
      "it's Gone\n"
     ]
    }
   ],
   "source": [
    "check([1,5,6,5,1,2,3,6])"
   ]
  },
  {
   "cell_type": "code",
   "execution_count": 33,
   "metadata": {},
   "outputs": [
    {
     "name": "stdout",
     "output_type": "stream",
     "text": [
      "it's Gone\n"
     ]
    }
   ],
   "source": [
    "check([2,4,1,5,2,8,1])"
   ]
  },
  {
   "cell_type": "code",
   "execution_count": 34,
   "metadata": {},
   "outputs": [
    {
     "name": "stdout",
     "output_type": "stream",
     "text": [
      "it's Gone\n"
     ]
    }
   ],
   "source": [
    "check([1,2,1,4,6])"
   ]
  },
  {
   "cell_type": "code",
   "execution_count": 35,
   "metadata": {},
   "outputs": [
    {
     "name": "stdout",
     "output_type": "stream",
     "text": [
      "It's a Match!\n"
     ]
    }
   ],
   "source": [
    "check([1,3,1,6,5])"
   ]
  },
  {
   "cell_type": "code",
   "execution_count": 36,
   "metadata": {},
   "outputs": [
    {
     "name": "stdout",
     "output_type": "stream",
     "text": [
      "It's a Match!\n"
     ]
    }
   ],
   "source": [
    "check([2,1,5,4,1,8,9,5])"
   ]
  },
  {
   "cell_type": "markdown",
   "metadata": {},
   "source": [
    "# Question 2:"
   ]
  },
  {
   "cell_type": "markdown",
   "metadata": {},
   "source": [
    "FCS Silver Project\n",
    "Tic Tac Toe Game:"
   ]
  },
  {
   "cell_type": "code",
   "execution_count": 3,
   "metadata": {},
   "outputs": [
    {
     "name": "stdout",
     "output_type": "stream",
     "text": [
      "O|X|X\n",
      "-----\n",
      "X|O|O\n",
      "-----\n",
      "O|X|X\n",
      "Draw\n",
      "Replay 'Y' or 'N'n\n",
      "Thank you\n"
     ]
    }
   ],
   "source": [
    "from IPython.display import clear_output\n",
    "lists=[' ']*10\n",
    "lists[0]='#'\n",
    "def board():\n",
    "    clear_output()\n",
    "    print(lists[7]+'|'+lists[8]+'|'+lists[9])\n",
    "    print('-----')\n",
    "    print(lists[4]+'|'+lists[5]+'|'+lists[6])\n",
    "    print('-----')\n",
    "    print(lists[1]+'|'+lists[2]+'|'+lists[3])\n",
    "def win(mark):\n",
    "    return ((lists[7]==lists[8]==lists[9]==mark)or(lists[4]==lists[5]==lists[6]==mark)or\n",
    "            (lists[1]==lists[2]==lists[3]==mark)or(lists[7]==lists[4]==lists[1]==mark)or\n",
    "            (lists[8]==lists[5]==lists[2]==mark)or(lists[9]==lists[6]==lists[3]==mark)or\n",
    "            (lists[7]==lists[5]==lists[3]==mark)or(lists[9]==lists[5]==lists[1]==mark))\n",
    "def blank(position):\n",
    "    return lists[position]==' '\n",
    "def game():\n",
    "    choose=input(\"choose 'X' or 'O'\").upper()\n",
    "    if(choose=='X'):\n",
    "        First_player=choose\n",
    "    else:\n",
    "        second_player=choose\n",
    "    turn='first'\n",
    "    while(1):\n",
    "        if(' ' not in lists):\n",
    "            print('Draw')\n",
    "            break\n",
    "        elif(turn=='first'):\n",
    "            print('player 1 turn')\n",
    "            position=int(input('Enter your position'))\n",
    "            if(blank(position)):\n",
    "                lists[position]='X'\n",
    "                board()\n",
    "            else:\n",
    "                print('Give correct position')\n",
    "            if(win('X')):\n",
    "                print(\"player 1 wins\")\n",
    "                break\n",
    "            else:\n",
    "                turn='second'\n",
    "        elif(turn=='second'):\n",
    "            print('player 2 turn')\n",
    "            position=int(input('Enter your position'))\n",
    "            if(blank(position)):\n",
    "                lists[position]='O'\n",
    "                board()\n",
    "            else:\n",
    "                print('Give correct position')\n",
    "            if(win('O')):\n",
    "                print(\"player 2 wins\")\n",
    "                break\n",
    "            else:\n",
    "                turn='first'\n",
    "if __name__=='__main__':\n",
    "    while(1):\n",
    "        game()\n",
    "        lists=[' ']*10\n",
    "        replay=input(\"Replay 'Y' or 'N'\").upper()\n",
    "        if(replay=='Y'):\n",
    "            continue\n",
    "        else:\n",
    "            print('Thank you')\n",
    "            break"
   ]
  },
  {
   "cell_type": "code",
   "execution_count": null,
   "metadata": {},
   "outputs": [],
   "source": []
  }
 ],
 "metadata": {
  "kernelspec": {
   "display_name": "Python 3",
   "language": "python",
   "name": "python3"
  },
  "language_info": {
   "codemirror_mode": {
    "name": "ipython",
    "version": 3
   },
   "file_extension": ".py",
   "mimetype": "text/x-python",
   "name": "python",
   "nbconvert_exporter": "python",
   "pygments_lexer": "ipython3",
   "version": "3.7.6"
  }
 },
 "nbformat": 4,
 "nbformat_minor": 4
}
