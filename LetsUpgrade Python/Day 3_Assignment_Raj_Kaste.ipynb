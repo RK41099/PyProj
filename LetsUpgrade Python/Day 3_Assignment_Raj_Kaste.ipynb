{
 "cells": [
  {
   "cell_type": "markdown",
   "metadata": {},
   "source": [
    "# Question 1:"
   ]
  },
  {
   "cell_type": "code",
   "execution_count": 1,
   "metadata": {},
   "outputs": [],
   "source": [
    "# WAP for taking one number a input and then using if elif else concept, assign a grade\n",
    "# to the input number from\n",
    "# A,B,C,D,E, Fail\n",
    "# In a formatted report card Example :\n",
    "# Input - 97\n",
    "# Output - \n",
    "# |--------|\n",
    "# |   A    |\n",
    "# |--------|"
   ]
  },
  {
   "cell_type": "markdown",
   "metadata": {},
   "source": [
    "Solution:"
   ]
  },
  {
   "cell_type": "code",
   "execution_count": 2,
   "metadata": {},
   "outputs": [
    {
     "name": "stdout",
     "output_type": "stream",
     "text": [
      "Enter your marks: 92.4\n",
      "Your grade: \n",
      "|--------|\n",
      "|    A   |\n",
      "|--------|\n"
     ]
    }
   ],
   "source": [
    "grade = float(input(\"Enter your marks: \"))\n",
    "\n",
    "print(\"Your grade: \")\n",
    "if grade >= 90 and grade <= 100 :\n",
    "    print(\"|--------|\\n|    A   |\\n|--------|\")\n",
    "    \n",
    "elif grade >= 80 and grade < 90 :\n",
    "    print(\"|--------|\\n|    B   |\\n|--------|\")\n",
    "\n",
    "elif grade >= 70 and grade < 80 :\n",
    "    print(\"|--------|\\n|    c   |\\n|--------|\")\n",
    "\n",
    "elif grade >= 60 and grade < 70 :\n",
    "    print(\"|--------|\\n|    D   |\\n|--------|\")\n",
    "\n",
    "elif grade >= 50 and grade < 60 :\n",
    "    print(\"|--------|\\n|    E   |\\n|--------|\")\n",
    "\n",
    "else :\n",
    "    print(\"|--------|\\n|  Fail  |\\n|--------|\")"
   ]
  },
  {
   "cell_type": "markdown",
   "metadata": {},
   "source": [
    "# Question 2:"
   ]
  },
  {
   "cell_type": "code",
   "execution_count": 3,
   "metadata": {},
   "outputs": [],
   "source": [
    "# Guessing Team India Score in 20-20 Cricket -\n",
    "# WAP gives you a random score of Team India in a cricket match, and a player has to\n",
    "# guess the score given by computer in between 1 to 250. The rules are:\n",
    "# 1. If a player's guess is less than 1 or greater than 250, say \"Reduce your expectation for 20-20\n",
    "# Cricket\"\n",
    "# 2. On a player's input, if their score guess is\n",
    "# a. within 10 of the number, return \"Close By, you are True Indian Fan! \"\n",
    "# b. further than 10 away from the number, return \"You don't watch that much! :P \""
   ]
  },
  {
   "cell_type": "markdown",
   "metadata": {},
   "source": [
    "Solution:"
   ]
  },
  {
   "cell_type": "code",
   "execution_count": 10,
   "metadata": {},
   "outputs": [
    {
     "name": "stdout",
     "output_type": "stream",
     "text": [
      "Enter your guess: 50\n",
      "The score is:  42\n",
      "Close By, you are True Indian Fan!\n"
     ]
    }
   ],
   "source": [
    "import random \n",
    "\n",
    "score = random.randint(1, 250)\n",
    "\n",
    "guess = int(input(\"Enter your guess: \")) \n",
    "\n",
    "print(\"The score is: \",score)\n",
    "\n",
    "if guess < 1 or guess > 250 :\n",
    "    print(\"Reduce your expectation for 20-20 Cricket\")\n",
    "    \n",
    "elif guess == score: \n",
    "    print(\"Congratulations your guess was PERFECT!!!\") \n",
    "\n",
    "elif score in range((guess-10) , (guess + 10)):\n",
    "    print(\"Close By, you are True Indian Fan!\")\n",
    "\n",
    "else:\n",
    "    print(\"You don't watch that much! :P\")\n",
    "    "
   ]
  },
  {
   "cell_type": "markdown",
   "metadata": {},
   "source": [
    "# Question 3:"
   ]
  },
  {
   "cell_type": "code",
   "execution_count": 1,
   "metadata": {},
   "outputs": [],
   "source": [
    "# WAP to Handle File using Python Script.\n",
    "# 1. Opening a File\n",
    "# 2. Writing - I love FCS\n",
    "# 3. Close the file\n",
    "# 4. Open the file again\n",
    "# 5. Show the content on screen"
   ]
  },
  {
   "cell_type": "markdown",
   "metadata": {},
   "source": [
    "Solution:"
   ]
  },
  {
   "cell_type": "code",
   "execution_count": 7,
   "metadata": {},
   "outputs": [],
   "source": [
    "file = open(\"Asgn.txt\",'w')\n",
    "\n",
    "file.write(\"I love FCS\")\n",
    "\n",
    "file.close()"
   ]
  },
  {
   "cell_type": "code",
   "execution_count": 8,
   "metadata": {},
   "outputs": [
    {
     "name": "stdout",
     "output_type": "stream",
     "text": [
      "I love FCS\n"
     ]
    }
   ],
   "source": [
    "file = open(\"Asgn.txt\",'r')\n",
    "\n",
    "text = file.read()\n",
    "\n",
    "print(text)\n",
    "\n",
    "file.close()"
   ]
  },
  {
   "cell_type": "markdown",
   "metadata": {},
   "source": [
    "# Question 4:"
   ]
  },
  {
   "cell_type": "code",
   "execution_count": 9,
   "metadata": {},
   "outputs": [],
   "source": [
    "# Roy wants to change his profile picture on Facebook. Now Facebook has some\n",
    "# restrictions over the dimension of pictures that we can upload.\n",
    "# Minimum dimension of the picture can be L x L, where L is the length of the side of the\n",
    "# square.\n",
    "# Now Roy has N photos of various dimensions.\n",
    "# Dimension of a photo is denoted as W x H\n",
    "# where W - width of the photo and H - Height of the photo\n",
    "# When any photo is uploaded following events may occur:\n",
    "# [1] If any of the width or height is less than L, the user is prompted to upload another one. Print \"UPLOAD\n",
    "# ANOTHER\" in this case.\n",
    "# [2] If width and height, both are large enough and\n",
    "# (a) if the photo is already square then it is accepted. Print \"ACCEPTED\" in this case.\n",
    "# (b) else the user is prompted to crop it. Print \"CROP IT\" in this case. (quotes are only for clarification)\n",
    "# Given L, N, W and H as input, print appropriate text as output.\n",
    "# Input:\n",
    "# First line contains L.\n",
    "# Second line contains N, number of photos.\n",
    "# Following N lines each contains two space separated integers W and H.\n",
    "# Output:\n",
    "# Print appropriate text for each photo in a new line.\n",
    "# Constraints:\n",
    "# 1 <= L,W,H <= 10000\n",
    "# 1 <= N <= 1000"
   ]
  },
  {
   "cell_type": "markdown",
   "metadata": {},
   "source": [
    "Solution:"
   ]
  },
  {
   "cell_type": "code",
   "execution_count": 4,
   "metadata": {},
   "outputs": [
    {
     "name": "stdout",
     "output_type": "stream",
     "text": [
      "Enter the Fixed Length: 200\n",
      "Enter the no. of Pics: 4\n",
      "Enter the Width: 60\n",
      "Enter the Height: 60\n",
      "UPLOAD ANOTHER\n",
      "Enter the Width: 200\n",
      "Enter the Height: 200\n",
      "ACCEPTED \n",
      "Fixed length:  200\n",
      "Width:  200\n",
      "Height:  200\n",
      "Enter the Width: 1200\n",
      "Enter the Height: 300\n",
      "CROP IT\n",
      "Enter the Width: 200\n",
      "Enter the Height: 500\n",
      "CROP IT\n"
     ]
    }
   ],
   "source": [
    "fixed_length = int(input(\"Enter the Fixed Length: \"))\n",
    "    \n",
    "N = int(input(\"Enter the no. of Pics: \"))\n",
    "\n",
    "for N in range (0,N): \n",
    "    \n",
    "    W = int(input(\"Enter the Width: \"))\n",
    "    H = int(input(\"Enter the Height: \"))\n",
    "    \n",
    "    if W < fixed_length or H < fixed_length :\n",
    "        print(\"UPLOAD ANOTHER\")\n",
    "    \n",
    "    elif W == fixed_length and H == fixed_length :\n",
    "        print(\"ACCEPTED \\nFixed length: \",fixed_length)\n",
    "        print(\"Width: \",W)\n",
    "        print(\"Height: \",H)\n",
    "    \n",
    "    else :\n",
    "        print(\"CROP IT\")"
   ]
  },
  {
   "cell_type": "markdown",
   "metadata": {},
   "source": [
    "# Question 5: "
   ]
  },
  {
   "cell_type": "code",
   "execution_count": 11,
   "metadata": {},
   "outputs": [],
   "source": [
    "# ➔ Ankit is in maze. The command center sent him a string which decodes to come\n",
    "# out from the maze.\n",
    "# ➔ He is initially at (0, 0).\n",
    "# ➔ String contains L, R, U, D denoting left, right, up and down.\n",
    "# ➔ In each command he will traverse 1 unit distance in the respective direction.\n",
    "# ➔ For example if he is at (2, 0) and the command is L he will go to (1, 0)."
   ]
  },
  {
   "cell_type": "code",
   "execution_count": 5,
   "metadata": {},
   "outputs": [
    {
     "name": "stdout",
     "output_type": "stream",
     "text": [
      "Program for maze\n",
      "Enter Where you want to go (Left(L),Rigth(R),Up(U),Down(D)): L\n",
      "1 0\n"
     ]
    }
   ],
   "source": [
    "print(\"Program for maze\")\n",
    "vertex=input(\"Enter Where you want to go (Left(L),Rigth(R),Up(U),Down(D)): \").upper();\n",
    "x=2\n",
    "y=0\n",
    "for char in vertex:\n",
    "    if(char=='L'):\n",
    "        x=x-1\n",
    "    elif(char=='R'):\n",
    "        x=x+1\n",
    "    elif(char=='U'):\n",
    "        y=y+1\n",
    "    elif(char=='D'):\n",
    "        y=y-1\n",
    "print(x,y)"
   ]
  },
  {
   "cell_type": "markdown",
   "metadata": {},
   "source": [
    "-------------------------"
   ]
  },
  {
   "cell_type": "code",
   "execution_count": null,
   "metadata": {},
   "outputs": [],
   "source": []
  }
 ],
 "metadata": {
  "kernelspec": {
   "display_name": "Python 3",
   "language": "python",
   "name": "python3"
  },
  "language_info": {
   "codemirror_mode": {
    "name": "ipython",
    "version": 3
   },
   "file_extension": ".py",
   "mimetype": "text/x-python",
   "name": "python",
   "nbconvert_exporter": "python",
   "pygments_lexer": "ipython3",
   "version": "3.7.6"
  }
 },
 "nbformat": 4,
 "nbformat_minor": 4
}
