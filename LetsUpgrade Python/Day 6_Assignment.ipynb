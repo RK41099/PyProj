{
 "cells": [
  {
   "cell_type": "markdown",
   "metadata": {},
   "source": [
    "# Question 1:"
   ]
  },
  {
   "cell_type": "markdown",
   "metadata": {},
   "source": [
    "For this challenge you need to develop a Python program to open a file in read only mode and try writing\n",
    "something in it and handle the subsequent errors using Exception Handling.\n"
   ]
  },
  {
   "cell_type": "code",
   "execution_count": 24,
   "metadata": {},
   "outputs": [
    {
     "name": "stdout",
     "output_type": "stream",
     "text": [
      "Error:  not writable\n",
      "Try changing the file mode\n"
     ]
    }
   ],
   "source": [
    "try:\n",
    "    file = open(\"day.txt\",'r')\n",
    "    file.write(\"Day 6 Assingment\")\n",
    "    print(\"File Created\")\n",
    "except Exception as e:\n",
    "    print(\"Error: \",e)\n",
    "    print(\"Try changing the file mode\")\n",
    "finally:\n",
    "    file.close()"
   ]
  },
  {
   "cell_type": "code",
   "execution_count": 30,
   "metadata": {},
   "outputs": [
    {
     "name": "stdout",
     "output_type": "stream",
     "text": [
      "File Created\n"
     ]
    }
   ],
   "source": [
    "    file = open(\"day.txt\",'w') #mode changed to w i.e. write mode\n",
    "    file.write(\"Day 6 Assingment\")\n",
    "    print(\"File Created\")\n",
    "    file.close()"
   ]
  },
  {
   "cell_type": "code",
   "execution_count": 31,
   "metadata": {},
   "outputs": [
    {
     "name": "stdout",
     "output_type": "stream",
     "text": [
      "File reading..\n",
      "Day 6 Assingment\n",
      "Exception Handling Example.\n"
     ]
    }
   ],
   "source": [
    "try:\n",
    "    file = open(\"day.txt\",'r')\n",
    "    print(\"File reading..\")\n",
    "    text = file.read()\n",
    "    print(text)\n",
    "except:\n",
    "    print(\"Error: \")\n",
    "    print(\"Try changing the file mode\")\n",
    "finally:\n",
    "    file.close()\n",
    "    print(\"Exception Handling Example.\")"
   ]
  },
  {
   "cell_type": "markdown",
   "metadata": {},
   "source": [
    "# Question 2:\n"
   ]
  },
  {
   "cell_type": "markdown",
   "metadata": {},
   "source": [
    "Write a python Function for finding a given number prime or not and do Unit Testing on it using PyLint &\n",
    "Unit test Library.\n"
   ]
  },
  {
   "cell_type": "code",
   "execution_count": 36,
   "metadata": {},
   "outputs": [],
   "source": [
    "def test_prime(n_pc):\n",
    "    '''\n",
    "    Prime Check Function\n",
    "    '''\n",
    "    if n_pc > 1:\n",
    "        for i in range(2, n_pc):\n",
    "            if (n_pc % i) == 0:\n",
    "                return \"not a prime number\"\n",
    "        else:\n",
    "            return \"prime number\"\n",
    "    else:\n",
    "        return \"not a prime number\""
   ]
  },
  {
   "cell_type": "code",
   "execution_count": 37,
   "metadata": {},
   "outputs": [
    {
     "data": {
      "text/plain": [
       "'prime number'"
      ]
     },
     "execution_count": 37,
     "metadata": {},
     "output_type": "execute_result"
    }
   ],
   "source": [
    "test_prime(257)"
   ]
  },
  {
   "cell_type": "code",
   "execution_count": 38,
   "metadata": {},
   "outputs": [
    {
     "name": "stdout",
     "output_type": "stream",
     "text": [
      "Overwriting prime.py\n"
     ]
    }
   ],
   "source": [
    "%%writefile prime.py\n",
    "'''\n",
    "Prime Check Example\n",
    "'''\n",
    "def test_prime(n_pc):\n",
    "    '''\n",
    "    Prime Check Function\n",
    "    '''\n",
    "    if n_pc > 1:\n",
    "        for i in range(2, n_pc):\n",
    "            if (n_pc % i) == 0:\n",
    "                return \"not a prime number\"\n",
    "        else:\n",
    "            return \"prime number\"\n",
    "    else:\n",
    "        return \"not a prime number\""
   ]
  },
  {
   "cell_type": "code",
   "execution_count": 39,
   "metadata": {},
   "outputs": [
    {
     "name": "stdout",
     "output_type": "stream",
     "text": [
      "************* Module prime\n",
      "prime.py:12:8: W0120: Else clause on loop without a break statement (useless-else-on-loop)\n",
      "\n",
      "------------------------------------------------------------------\n",
      "\n",
      "Your code has been rated at 8.57/10 (previous run: 8.57/10, +0.00)\n",
      "\n",
      "\n",
      "\n"
     ]
    }
   ],
   "source": [
    "!pylint prime.py"
   ]
  },
  {
   "cell_type": "code",
   "execution_count": 44,
   "metadata": {},
   "outputs": [
    {
     "name": "stdout",
     "output_type": "stream",
     "text": [
      "Overwriting testprime.py\n"
     ]
    }
   ],
   "source": [
    "%%writefile testprime.py\n",
    "'''\n",
    "Prime Check Example\n",
    "'''\n",
    "import unittest\n",
    "import prime\n",
    "\n",
    "class test_prime(unittest.TestCase):\n",
    "\n",
    "    def test1(self):\n",
    "        num = 257\n",
    "        result = prime.test_prime(num)\n",
    "        self.assertEqual(result,\"prime number\")  \n",
    "    def test2(self):\n",
    "        num = 9\n",
    "        result = prime.test_prime(num)\n",
    "        self.assertEqual(result,\"not a prime number\")   \n",
    "                \n",
    "if __name__ == '__main__':\n",
    "    unittest.main()"
   ]
  },
  {
   "cell_type": "code",
   "execution_count": 45,
   "metadata": {},
   "outputs": [
    {
     "name": "stderr",
     "output_type": "stream",
     "text": [
      "..\n",
      "----------------------------------------------------------------------\n",
      "Ran 2 tests in 0.000s\n",
      "\n",
      "OK\n"
     ]
    }
   ],
   "source": [
    "!python testprime.py"
   ]
  },
  {
   "cell_type": "code",
   "execution_count": null,
   "metadata": {},
   "outputs": [],
   "source": []
  }
 ],
 "metadata": {
  "kernelspec": {
   "display_name": "Python 3",
   "language": "python",
   "name": "python3"
  },
  "language_info": {
   "codemirror_mode": {
    "name": "ipython",
    "version": 3
   },
   "file_extension": ".py",
   "mimetype": "text/x-python",
   "name": "python",
   "nbconvert_exporter": "python",
   "pygments_lexer": "ipython3",
   "version": "3.7.6"
  }
 },
 "nbformat": 4,
 "nbformat_minor": 4
}
